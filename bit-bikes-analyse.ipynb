{
 "cells": [
  {
   "cell_type": "markdown",
   "metadata": {},
   "source": [
    "# De opdracht\n",
    "\n",
    "## Beschrijving \n",
    "Het doel van Bit Bikes is om in juli 2023 zo vaak mogelijk te verhuren.\n",
    "\n",
    "Je gaat Bit Bikes voorspellingen en concrete adviezen geven om dit te bewerkstelligen. (natuurlijk met data onderbouwd)\n",
    "\n",
    "Voor je advies en voorspellingen aan Bit Bikes behandel je minstens de volgende onderwerpen:\n",
    "\n",
    "Membership\n",
    "De fietstypes\n",
    "Het bedrijf wil ook weten hoeveel fietsen ze voor komend jaar moeten hebben? Moeten er fietsen gekocht/verkocht worden?\n",
    "\n",
    "De eerste stap is het exploreren van je data. Per onderwerp kan je bekijken hoe je dat wil visualiseren.\n",
    "\n",
    "Maak een of meerdere visualisaties per onderwerp, geef bij al je visualisaties aan waarom je voor deze visualisatie hebt gekozen.\n",
    "Schrijf vervolgens per onderwerp jouw interpretatie van de data. Wat blijkt er uit de data?\n",
    "Maak tot slot je advies op voor Bit Bikes en presenteer dit aan het einde van je notebook.\n",
    "\n",
    "\n",
    "## Doel\n",
    "\n",
    "Het doel van Bit Bikes is om in juli 2023 zo vaak mogelijk te verhuren.\n",
    "\n",
    "Je gaat Bit Bikes voorspellingen en concrete adviezen geven om dit te bewerkstelligen. (natuurlijk met data onderbouwd)\n",
    "\n",
    "Voor je advies en voorspellingen aan Bit Bikes behandel je minstens de volgende onderwerpen:\n",
    "\n",
    "Membership\n",
    "De fietstypes\n",
    "Het bedrijf wil ook weten hoeveel fietsen ze voor komend jaar moeten hebben? Moeten er fietsen gekocht/verkocht worden?\n",
    "\n",
    "De eerste stap is het exploreren van je data. Per onderwerp kan je bekijken hoe je dat wil visualiseren.\n",
    "\n",
    "Maak een of meerdere visualisaties per onderwerp, geef bij al je visualisaties aan waarom je voor deze visualisatie hebt gekozen.\n",
    "Schrijf vervolgens per onderwerp jouw interpretatie van de data. Wat blijkt er uit de data?\n",
    "Maak tot slot je advies op voor Bit Bikes en presenteer dit aan het einde van je notebook."
   ]
  },
  {
   "cell_type": "code",
   "execution_count": null,
   "metadata": {},
   "outputs": [],
   "source": [
    "import pandas as pd\n",
    "import matplotlib.pyplot as plt\n",
    "import seaborn as sns\n",
    "\n",
    "# Lees de data in\n",
    "df_2020 = pd.read_csv('divvy-tripdata/202007-divvy-tripdata.csv')\n",
    "df_2020['year'] = 2020\n",
    "\n",
    "df_2021 = pd.read_csv('divvy-tripdata/202107-divvy-tripdata.csv')\n",
    "df_2021['year'] = 2021\n",
    "\n",
    "df_2022 = pd.read_csv('divvy-tripdata/202207-divvy-tripdata.csv')\n",
    "df_2022['year'] = 2022\n",
    "\n",
    "#Data cleaning (date converting)\n",
    "df_2020[['started_at', 'ended_at']] = df_2020[['started_at', 'ended_at']].apply(pd.to_datetime, format='%d/%m/%Y %H:%M') \n",
    "df_2021[['started_at', 'ended_at']] = df_2021[['started_at', 'ended_at']].apply(pd.to_datetime, format='%Y-%m-%d %H:%M:%S') \n",
    "df_2022[['started_at', 'ended_at']] = df_2022[['started_at', 'ended_at']].apply(pd.to_datetime, format='%Y-%m-%d %H:%M:%S') \n",
    "#df_2020['started_at'] = pd.to_datetime(df_2020['started_at'], format='%d/%m/%Y %H:%M')\n",
    "#df_2020.sort_values(by=['started_at'], inplace=True, ascending=True)\n",
    "\n",
    "df_all = pd.concat([df_2020, df_2021, df_2022])\n",
    "\n",
    "df_all.info()\n"
   ]
  },
  {
   "cell_type": "markdown",
   "metadata": {},
   "source": [
    "# Memberships\n",
    "\n",
    "## Verdeling over de jaren heen\n",
    "\n",
    "Laten we eens een kijkje nemen naar de aantal ritten die in de afgelopen jaren van Juli zijn gemaakt en de verdeling ervan tussen klanten met een membership en zonder"
   ]
  },
  {
   "cell_type": "code",
   "execution_count": null,
   "metadata": {},
   "outputs": [],
   "source": [
    "df_all.groupby(['year', 'member_casual']).size().unstack(fill_value=0).plot(kind='bar', stacked=True)\n",
    "plt.xlabel('Jaar')\n",
    "plt.ylabel('Aantal ritten')"
   ]
  },
  {
   "cell_type": "markdown",
   "metadata": {},
   "source": [
    "De verdeling over de membership is over de 3 jaar redelijk gebleven op 50%, met een lichte daling in 2021 en een lichte stijging in 2022. Wel opmerkelijk is de 45% stijging in het aantal ritten van 2020 naar 2021. Maar omdat het in 2022 gelijk is gebleven. Met alleen drie maanden uit elk jaar is het moeilijk vast te stellen wat de trend momenteel is bij de aantal ritten. \n",
    "\n",
    "### Verdeling membership over de populaire stations\n",
    "\n",
    "Dus lijkt het me dat we moeten gaan visualieren waar de meeste members aan hun ritten beginnen. Om dit te doen pakken we de top 20 stations waar de ritten beginnen. Van deze top 20 verwijderen we wel de volgende stations:\n",
    "\n",
    "| Station                  | Reden voor uitsluiting         |\n",
    "|--------------------------|--------------------------------|\n",
    "| DuSable Lake Shore Dr & North Blvd       | Deze station ontbreekt in 2020 |\n",
    "| Lake ShoreDr & Monroe St   | Deze station ontbreekt in 2022 |\n",
    "| Lake ShoreDr & North Blvd  | Deze station ontbreekt in 2022 |\n",
    "\n"
   ]
  },
  {
   "cell_type": "code",
   "execution_count": null,
   "metadata": {},
   "outputs": [],
   "source": [
    "top20_stations = df_all.groupby('start_station_name')['start_station_name'].value_counts().nlargest(20)\n",
    "\n",
    "\n",
    "df_top20_sname_year = df_all[df_all[\"start_station_name\"].isin(top20_stations.index)][['start_station_name', 'member_casual', 'year']]\n",
    "df_top20_sname_year.drop(df_top20_sname_year[df_top20_sname_year['start_station_name'].isin(['DuSable Lake Shore Dr & North Blvd', 'Lake Shore Dr & Monroe St', 'Lake Shore Dr & North Blvd'])].index, inplace=True)\n",
    "\n",
    "\n",
    "fig, ax = plt.subplots(figsize=(20, 20), nrows=3, ncols=1)\n",
    "\n",
    "for i in range(2020, 2023):\n",
    "    df_top20_sname_year[df_top20_sname_year['year'] == i].groupby(['start_station_name', 'member_casual']).size().unstack(fill_value=0).iloc[::-1].plot(kind='barh', stacked=True, ax=ax[(i-2020)])\n",
    "    ax[(i-2020)].set_title(f\"Jaar {i}\")"
   ]
  },
  {
   "cell_type": "markdown",
   "metadata": {},
   "source": [
    "Wat opvalt is:\n",
    "\n",
    "- In 2020 waren de top plaatsen een stuk populairder dan de jaren erna\n",
    "- Er zijn een paar stations met een overheersende aantal non-members zoals:\n",
    "    - Michigan Ave & Oak st\n",
    "    - Millenium Park\n",
    "    - Shedd Aquarium\n",
    "    - Streeter Dr & Grand Ave\n",
    "- In het algemeen gaat de verhouding van members t.o.v non-members of achteruit of het blijft het gelijk.\n",
    "    - Dit hint dat de huidige abbonement niet aantrekkelijk genoeg blijft voor onze leden\n",
    "\n",
    "Dat de aantal ritten gemaakt in de top 20 plaatsen achteruit gaat, maakt het waard om te zien hoeveel % van de aantal ritten  nu  uit de top 17 stations bestaat."
   ]
  },
  {
   "cell_type": "code",
   "execution_count": null,
   "metadata": {},
   "outputs": [],
   "source": [
    "print(f\"De top 17 stations leverde {round((df_top20_sname_year[df_top20_sname_year['year'] == 2020].shape[0] / df_2020.shape[0] * 100), 2)}% van alle ritten in 2020 op.\")\n",
    "print(f\"De top 17 stations leverde {round((df_top20_sname_year[df_top20_sname_year['year'] == 2021].shape[0] / df_2021.shape[0] * 100), 2)}% van alle ritten in 2021 op.\")\n",
    "print(f\"De top 17 stations leverde {round((df_top20_sname_year[df_top20_sname_year['year'] == 2022].shape[0] / df_2022.shape[0] * 100), 2)}% van alle ritten in 2022 op.\")"
   ]
  },
  {
   "cell_type": "markdown",
   "metadata": {},
   "source": [
    "Conclusies die wij hieruit trekken zijn:\n",
    "\n",
    "Sinds 2022 zijn de aantal gemaakte ritten meer verspreid door het land heen. Dit kan betekenen dat de vraag naar meer bit bikes verspreid is tussen de stations. Wij stellen voor om ze te plaatsen in de stations waar ze onderbezet zijn, i.p.v de populairdere stations.\n",
    "\n",
    "Bij de eerder genoemde stations waar de non-members overheersen, stellen wij voor om een enquete te houden waarom onze klanten er niet voor kiezen om bij ons een membership te nemen. Dit kan onze stabiele inkomen verhogen omdat wij vanzelfsprekend bij populaire stations al veel klanten hebben en ze een lidmaatschap verkopen zou dat verbeteren. "
   ]
  },
  {
   "attachments": {},
   "cell_type": "markdown",
   "metadata": {},
   "source": [
    "# Fiets types\n",
    "\n",
    "Momenteel bieden we de volgende fietsen aan:\n",
    "- Classic Bike\n",
    "- Docked Bike\n",
    "- Electric Bike\n",
    "\n",
    "Om de verdeling over de jaren te vertonen lijkt de pie chart ons om de verdeling te tonen:"
   ]
  },
  {
   "cell_type": "code",
   "execution_count": null,
   "metadata": {},
   "outputs": [],
   "source": [
    "df_all['rideable_type'] = df_all['rideable_type'].str.replace('_', ' ').str.title()\n",
    "\n",
    "fig, ax = plt.subplots(figsize=(15, 15), nrows=3, ncols=1)\n",
    "\n",
    "for i in range(2020, 2023):\n",
    "    print(df_all[df_all['year'] == i].groupby(['rideable_type']).size().plot(kind='pie', ax=ax[(i-2020)], autopct='%1.1f%%'))\n",
    "    ax[(i-2020)].set_title(f\"Jaar {i}\")\n",
    "\n",
    "plt.tight_layout()"
   ]
  },
  {
   "cell_type": "markdown",
   "metadata": {},
   "source": [
    "Nu is er in de 2020 dataset geen classic bike te bekennen maar tussen 2021 & 2022 kunnen we nog steeds een stijgende trend zien van de elektrische fiets. "
   ]
  }
 ],
 "metadata": {
  "kernelspec": {
   "display_name": "Python 3 (ipykernel)",
   "language": "python",
   "name": "python3"
  },
  "language_info": {
   "codemirror_mode": {
    "name": "ipython",
    "version": 3
   },
   "file_extension": ".py",
   "mimetype": "text/x-python",
   "name": "python",
   "nbconvert_exporter": "python",
   "pygments_lexer": "ipython3",
   "version": "3.11.4"
  }
 },
 "nbformat": 4,
 "nbformat_minor": 4
}
